{
 "cells": [
  {
   "cell_type": "code",
   "execution_count": 75,
   "metadata": {},
   "outputs": [],
   "source": [
    "#Author: Gu Sheng "
   ]
  },
  {
   "cell_type": "code",
   "execution_count": 76,
   "metadata": {},
   "outputs": [
    {
     "data": {
      "text/html": [
       "<div>\n",
       "<style scoped>\n",
       "    .dataframe tbody tr th:only-of-type {\n",
       "        vertical-align: middle;\n",
       "    }\n",
       "\n",
       "    .dataframe tbody tr th {\n",
       "        vertical-align: top;\n",
       "    }\n",
       "\n",
       "    .dataframe thead th {\n",
       "        text-align: right;\n",
       "    }\n",
       "</style>\n",
       "<table border=\"1\" class=\"dataframe\">\n",
       "  <thead>\n",
       "    <tr style=\"text-align: right;\">\n",
       "      <th></th>\n",
       "      <th>age</th>\n",
       "      <th>job</th>\n",
       "      <th>marital</th>\n",
       "      <th>education</th>\n",
       "      <th>default</th>\n",
       "      <th>balance</th>\n",
       "      <th>housing</th>\n",
       "      <th>loan</th>\n",
       "      <th>contact</th>\n",
       "      <th>day</th>\n",
       "      <th>month</th>\n",
       "      <th>duration</th>\n",
       "      <th>campaign</th>\n",
       "      <th>pdays</th>\n",
       "      <th>previous</th>\n",
       "      <th>poutcome</th>\n",
       "      <th>y</th>\n",
       "    </tr>\n",
       "  </thead>\n",
       "  <tbody>\n",
       "    <tr>\n",
       "      <th>0</th>\n",
       "      <td>30</td>\n",
       "      <td>unemployed</td>\n",
       "      <td>married</td>\n",
       "      <td>primary</td>\n",
       "      <td>no</td>\n",
       "      <td>1787</td>\n",
       "      <td>no</td>\n",
       "      <td>no</td>\n",
       "      <td>cellular</td>\n",
       "      <td>19</td>\n",
       "      <td>oct</td>\n",
       "      <td>79</td>\n",
       "      <td>1</td>\n",
       "      <td>-1</td>\n",
       "      <td>0</td>\n",
       "      <td>unknown</td>\n",
       "      <td>no</td>\n",
       "    </tr>\n",
       "    <tr>\n",
       "      <th>1</th>\n",
       "      <td>33</td>\n",
       "      <td>services</td>\n",
       "      <td>married</td>\n",
       "      <td>secondary</td>\n",
       "      <td>no</td>\n",
       "      <td>4789</td>\n",
       "      <td>yes</td>\n",
       "      <td>yes</td>\n",
       "      <td>cellular</td>\n",
       "      <td>11</td>\n",
       "      <td>may</td>\n",
       "      <td>220</td>\n",
       "      <td>1</td>\n",
       "      <td>339</td>\n",
       "      <td>4</td>\n",
       "      <td>failure</td>\n",
       "      <td>no</td>\n",
       "    </tr>\n",
       "    <tr>\n",
       "      <th>2</th>\n",
       "      <td>35</td>\n",
       "      <td>management</td>\n",
       "      <td>single</td>\n",
       "      <td>tertiary</td>\n",
       "      <td>no</td>\n",
       "      <td>1350</td>\n",
       "      <td>yes</td>\n",
       "      <td>no</td>\n",
       "      <td>cellular</td>\n",
       "      <td>16</td>\n",
       "      <td>apr</td>\n",
       "      <td>185</td>\n",
       "      <td>1</td>\n",
       "      <td>330</td>\n",
       "      <td>1</td>\n",
       "      <td>failure</td>\n",
       "      <td>no</td>\n",
       "    </tr>\n",
       "    <tr>\n",
       "      <th>3</th>\n",
       "      <td>30</td>\n",
       "      <td>management</td>\n",
       "      <td>married</td>\n",
       "      <td>tertiary</td>\n",
       "      <td>no</td>\n",
       "      <td>1476</td>\n",
       "      <td>yes</td>\n",
       "      <td>yes</td>\n",
       "      <td>unknown</td>\n",
       "      <td>3</td>\n",
       "      <td>jun</td>\n",
       "      <td>199</td>\n",
       "      <td>4</td>\n",
       "      <td>-1</td>\n",
       "      <td>0</td>\n",
       "      <td>unknown</td>\n",
       "      <td>no</td>\n",
       "    </tr>\n",
       "    <tr>\n",
       "      <th>4</th>\n",
       "      <td>59</td>\n",
       "      <td>blue-collar</td>\n",
       "      <td>married</td>\n",
       "      <td>secondary</td>\n",
       "      <td>no</td>\n",
       "      <td>0</td>\n",
       "      <td>yes</td>\n",
       "      <td>no</td>\n",
       "      <td>unknown</td>\n",
       "      <td>5</td>\n",
       "      <td>may</td>\n",
       "      <td>226</td>\n",
       "      <td>1</td>\n",
       "      <td>-1</td>\n",
       "      <td>0</td>\n",
       "      <td>unknown</td>\n",
       "      <td>no</td>\n",
       "    </tr>\n",
       "  </tbody>\n",
       "</table>\n",
       "</div>"
      ],
      "text/plain": [
       "   age          job  marital  education default  balance housing loan  \\\n",
       "0   30   unemployed  married    primary      no     1787      no   no   \n",
       "1   33     services  married  secondary      no     4789     yes  yes   \n",
       "2   35   management   single   tertiary      no     1350     yes   no   \n",
       "3   30   management  married   tertiary      no     1476     yes  yes   \n",
       "4   59  blue-collar  married  secondary      no        0     yes   no   \n",
       "\n",
       "    contact  day month  duration  campaign  pdays  previous poutcome   y  \n",
       "0  cellular   19   oct        79         1     -1         0  unknown  no  \n",
       "1  cellular   11   may       220         1    339         4  failure  no  \n",
       "2  cellular   16   apr       185         1    330         1  failure  no  \n",
       "3   unknown    3   jun       199         4     -1         0  unknown  no  \n",
       "4   unknown    5   may       226         1     -1         0  unknown  no  "
      ]
     },
     "execution_count": 76,
     "metadata": {},
     "output_type": "execute_result"
    }
   ],
   "source": [
    "import pandas as pd\n",
    "import numpy as np\n",
    "#load data (bank.csv, smaller sample)\n",
    "bank=pd.read_csv('bank.csv', sep=';')\n",
    "bank.head()"
   ]
  },
  {
   "cell_type": "code",
   "execution_count": 77,
   "metadata": {},
   "outputs": [
    {
     "data": {
      "text/plain": [
       "array([0, 0, 0, ..., 0, 0, 0])"
      ]
     },
     "execution_count": 77,
     "metadata": {},
     "output_type": "execute_result"
    }
   ],
   "source": [
    "# Normalize\n",
    "y=bank.iloc[:,16].values\n",
    "y=np.where(y=='no', 0 ,1)\n",
    "y"
   ]
  },
  {
   "cell_type": "code",
   "execution_count": 78,
   "metadata": {
    "scrolled": true
   },
   "outputs": [
    {
     "name": "stderr",
     "output_type": "stream",
     "text": [
      "C:\\Users\\13320\\Anaconda3\\lib\\site-packages\\sklearn\\utils\\validation.py:475: DataConversionWarning: Data with input dtype object was converted to float64 by StandardScaler.\n",
      "  warnings.warn(msg, DataConversionWarning)\n"
     ]
    }
   ],
   "source": [
    "X=np.zeros((4521,16))\n",
    "X=bank.iloc[:, :16].values\n",
    "\n",
    "X[:,1]=np.where(X[:,1]=='admin.',0,\n",
    "            np.where(X[:,1]=='unknown',1, \n",
    "            np.where(X[:,1]=='unemployed',2,\n",
    "            np.where(X[:,1]=='management',3,\n",
    "            np.where(X[:,1]=='housemaid',4, \n",
    "            np.where(X[:,1]=='entrepreneur',5, \n",
    "            np.where(X[:,1]=='student',6, \n",
    "            np.where(X[:,1]=='blue-collar',7, \n",
    "            np.where(X[:,1]=='self-employed',8, \n",
    "            np.where(X[:,1]=='retired',9, \n",
    "            np.where(X[:,1]=='technician',10, 11\n",
    "            ))))))))))) \n",
    "                   #admin.=0, unknown=1, unemployed=2, management=3, housemaid=4, entrepreneur=5, student=6, blue-collar=7\n",
    "                    #self-employed=8, retired=9, technician=10, service=11\n",
    "X[:,2]=np.where(X[:,2]=='married',0,np.where(X[:,1]=='divorced',1,2))#married=0,divorced=1, single=2\n",
    "X[:,3]=np.where(X[:,3]=='unknown',0,\n",
    "                np.where(X[:,1]=='secondary',1,\n",
    "                np.where(X[:,1]=='primary',2,3))) #unknown=0, secondary=1, primary=2, tertiary=3\n",
    "X[:,4]=np.where(X[:,4]=='no',0,1)#default: no=0, yes=1\n",
    "X[:,6]=np.where(X[:,6]=='no',0,1)#housing: no=0,yes=1\n",
    "X[:,7]=np.where(X[:,7]=='no',0,1)#loan: no=0,yes=1\n",
    "X[:,8]=np.where(X[:,8]=='unknown',0,np.where(X[:,8]=='telephone',1,2)) #contact: unknown=0,telephone=1, celluar=2\n",
    "X[:,10]=np.where(X[:,10]=='jan',0,\n",
    "            np.where(X[:,1]=='feb',1, \n",
    "            np.where(X[:,1]=='mar',2,\n",
    "            np.where(X[:,1]=='apr',3,\n",
    "            np.where(X[:,1]=='may',4, \n",
    "            np.where(X[:,1]=='jun',5, \n",
    "            np.where(X[:,1]=='jul',6, \n",
    "            np.where(X[:,1]=='aug',7, \n",
    "            np.where(X[:,1]=='sep',8, \n",
    "            np.where(X[:,1]=='oct',9, \n",
    "            np.where(X[:,1]=='nov',10, 11\n",
    "            ))))))))))) \n",
    "X[:,15]=np.where(X[:,15]=='unknown',0,\n",
    "                np.where(X[:,15]=='other',1,\n",
    "                np.where(X[:,15]=='failure',2,3)))#poutcome: unknown=0, other=1, failure=2, success=3\n",
    "from sklearn.preprocessing import StandardScaler\n",
    "sc=StandardScaler()\n",
    "age=X[:,0].reshape(-1,1)\n",
    "sc.fit(age)\n",
    "X[:,0]=sc.transform(age).reshape(-1)\n",
    "bal=X[:,5].reshape(-1,1)\n",
    "sc.fit(bal)\n",
    "X[:,5]=sc.transform(bal).reshape(-1)"
   ]
  },
  {
   "cell_type": "code",
   "execution_count": 79,
   "metadata": {},
   "outputs": [],
   "source": [
    "#Devide training/test sets\n",
    "from sklearn.model_selection import train_test_split\n",
    "X_train, X_test, y_train, y_test= train_test_split(\n",
    "                    X, y, test_size=0.3, random_state=0)"
   ]
  },
  {
   "cell_type": "code",
   "execution_count": 80,
   "metadata": {},
   "outputs": [
    {
     "data": {
      "text/plain": [
       "Perceptron(alpha=0.0001, class_weight=None, eta0=0.1, fit_intercept=True,\n",
       "      max_iter=40, n_iter=None, n_jobs=1, penalty=None, random_state=0,\n",
       "      shuffle=True, tol=None, verbose=0, warm_start=False)"
      ]
     },
     "execution_count": 80,
     "metadata": {},
     "output_type": "execute_result"
    }
   ],
   "source": [
    "#Preceptron model\n",
    "X_train_25=X_train[:,[1,4]]\n",
    "X_test_25=X_test[:,[1,4]]\n",
    "from sklearn.linear_model import Perceptron\n",
    "ppn=Perceptron(max_iter=40, eta0=0.1, random_state=0)\n",
    "ppn.fit(X_train_25, y_train)"
   ]
  },
  {
   "cell_type": "code",
   "execution_count": 81,
   "metadata": {},
   "outputs": [
    {
     "name": "stdout",
     "output_type": "stream",
     "text": [
      "Accuracy: 0.8769\n",
      "[0 0 0 ... 0 0 0] [0 0 0 ... 0 0 0]\n"
     ]
    }
   ],
   "source": [
    "#Check the accuracy\n",
    "y_pred_25=ppn.predict(X_test_25)\n",
    "from sklearn.metrics import accuracy_score\n",
    "print('Accuracy: %.4f' % accuracy_score(y_test, y_pred_25))\n",
    "print(y_test, y_pred_25)"
   ]
  },
  {
   "cell_type": "code",
   "execution_count": 82,
   "metadata": {},
   "outputs": [],
   "source": [
    "#Plot the outcome\n",
    "from matplotlib.colors import ListedColormap\n",
    "import matplotlib.pyplot as plt\n",
    "def plot_decision_regions(X, y, classifier,\n",
    "                         test_idx=None, resolution=0.02):\n",
    "    markers=('s', 'x','o','^','v')\n",
    "    colors=('red','blue','lightgreen','gray','cyan')\n",
    "    cmap=ListedColormap(colors[:len(np.unique(y))])\n",
    "    \n",
    "    x1_min, x1_max=X[:,0].min()-1, X[:,0].max()+1\n",
    "    x2_min, x2_max=X[:,1].min()-1, X[:,1].max()+1\n",
    "    xx1,xx2=np.meshgrid(np.arange(x1_min,x1_max, resolution),\n",
    "                       np.arange(x2_min,x2_max,resolution))\n",
    "    Z=classifier.predict(np.array([xx1.ravel(),xx2.ravel()]).T)\n",
    "    Z=Z.reshape(xx1.shape)\n",
    "    plt.contourf(xx1, xx2, Z, alpha=0.4, cmap=cmap)\n",
    "    plt.xlim(xx1.min(),xx1.max())\n",
    "    plt.ylim(xx2.min(),xx2.max())\n",
    "    \n",
    "    #plot all samples\n",
    "    X_test, y_test=X[test_idx, :], y[test_idx] \n",
    "    for idx, cl in enumerate(np.unique(y)):\n",
    "        plt.scatter(x=X[y==cl,0], y=X[y==cl,1],\n",
    "                   alpha=0.8, c=cmap(idx),\n",
    "                   marker=markers[idx], label=cl)\n",
    "    \n",
    "    #highlight test samples\n",
    "    if test_idx:\n",
    "        X_test, y_test =X[test_idx, :], y[test_idx]\n",
    "        plt.scatter(X_test[:,0], X_test[:,1], c='',edgecolor='black', \n",
    "                   alpha=1.0, linewidth=1, marker='o',\n",
    "                   s=55, label='test set')"
   ]
  },
  {
   "cell_type": "code",
   "execution_count": 83,
   "metadata": {},
   "outputs": [
    {
     "data": {
      "image/png": "[encoded data removed]",
      "text/plain": [
       "<matplotlib.figure.Figure at 0x24456e117f0>"
      ]
     },
     "metadata": {},
     "output_type": "display_data"
    }
   ],
   "source": [
    "X_combined_25=np.vstack((X_train_25, X_test_25))\n",
    "y_combined_25=np.hstack((y_train, y_test))\n",
    "plot_decision_regions(X=X_combined_25, \n",
    "                     y=y_combined_25,\n",
    "                     classifier=ppn,\n",
    "                     test_idx=range(3164, 4521))\n",
    "plt.xlabel('Job')\n",
    "plt.ylabel('Default')\n",
    "plt.legend(loc='best')\n",
    "plt.show()"
   ]
  },
  {
   "cell_type": "code",
   "execution_count": 84,
   "metadata": {},
   "outputs": [
    {
     "data": {
      "image/png": "[encoded data removed]",
      "text/plain": [
       "<matplotlib.figure.Figure at 0x24456d171d0>"
      ]
     },
     "metadata": {},
     "output_type": "display_data"
    },
    {
     "name": "stdout",
     "output_type": "stream",
     "text": [
      "Accuracy: 0.8769\n"
     ]
    }
   ],
   "source": [
    "#Logistic model change variables\n",
    "X_train_211=X_train[:,[1,10]]\n",
    "X_test_211=X_test[:,[1,10]]\n",
    "from sklearn.linear_model import LogisticRegression\n",
    "lr=LogisticRegression(C=1000.0, random_state=0)\n",
    "lr.fit(X_train_211, y_train)\n",
    "X_combined_211=np.vstack((X_train_211, X_test_211))\n",
    "y_combined_211=np.hstack((y_train, y_test))\n",
    "plot_decision_regions(X=X_combined_211, \n",
    "                     y=y_combined_211,\n",
    "                     classifier=lr,\n",
    "                     test_idx=range(3164, 4521))\n",
    "plt.xlabel('Job')\n",
    "plt.ylabel('Month')\n",
    "plt.legend(loc='best')\n",
    "plt.show()\n",
    "#Check the accuracy\n",
    "y_pred_211=lr.predict(X_test_211)\n",
    "from sklearn.metrics import accuracy_score\n",
    "print('Accuracy: %.4f' % accuracy_score(y_test, y_pred_211))\n"
   ]
  },
  {
   "cell_type": "code",
   "execution_count": 85,
   "metadata": {},
   "outputs": [
    {
     "name": "stdout",
     "output_type": "stream",
     "text": [
      "Accuracy: 0.8769\n"
     ]
    }
   ],
   "source": [
    "#Logistic model\n",
    "X_train_2311=X_train[:,[1,2,10]]\n",
    "X_test_2311=X_test[:,[1,2,10]]\n",
    "from sklearn.linear_model import LogisticRegression\n",
    "lr=LogisticRegression(C=1000.0, random_state=0)\n",
    "lr.fit(X_train_2311, y_train)\n",
    "X_combined=np.vstack((X_train_2311, X_test_2311))\n",
    "y_combined=np.hstack((y_train, y_test))\n",
    "\n",
    "#Check the accuracy\n",
    "y_pred_2311=lr.predict(X_test_2311)\n",
    "from sklearn.metrics import accuracy_score\n",
    "print('Accuracy: %.4f' % accuracy_score(y_test, y_pred_2311))"
   ]
  },
  {
   "cell_type": "code",
   "execution_count": 86,
   "metadata": {},
   "outputs": [
    {
     "data": {
      "image/png": "[encoded data removed]",
      "text/plain": [
       "<matplotlib.figure.Figure at 0x24456f89198>"
      ]
     },
     "metadata": {},
     "output_type": "display_data"
    },
    {
     "name": "stdout",
     "output_type": "stream",
     "text": [
      "Accuracy: 0.8769\n"
     ]
    }
   ],
   "source": [
    "#SVM model\n",
    "X_train_211=X_train[:,[1,10]]\n",
    "X_test_211=X_test[:,[1,10]]\n",
    "from sklearn.svm import SVC\n",
    "svm=SVC(kernel='linear', C=1.0, random_state=0)\n",
    "svm.fit(X_train_211, y_train)\n",
    "X_combined_211=np.vstack((X_train_211, X_test_211))\n",
    "y_combined_211=np.hstack((y_train, y_test))\n",
    "plot_decision_regions(X=X_combined_211, \n",
    "                     y=y_combined_211,\n",
    "                     classifier=svm,\n",
    "                     test_idx=range(3164, 4521))\n",
    "plt.xlabel('Job')\n",
    "plt.ylabel('Month')\n",
    "plt.legend(loc='best')\n",
    "plt.show()\n",
    "#Check the accuracy\n",
    "y_pred_211=svm.predict(X_test_211)\n",
    "from sklearn.metrics import accuracy_score\n",
    "print('Accuracy: %.4f' % accuracy_score(y_test, y_pred_211))"
   ]
  },
  {
   "cell_type": "code",
   "execution_count": 87,
   "metadata": {
    "scrolled": true
   },
   "outputs": [
    {
     "data": {
      "image/png": "[encoded data removed]",
      "text/plain": [
       "<matplotlib.figure.Figure at 0x244570afa90>"
      ]
     },
     "metadata": {},
     "output_type": "display_data"
    },
    {
     "name": "stdout",
     "output_type": "stream",
     "text": [
      "Accuracy: 0.88\n"
     ]
    }
   ],
   "source": [
    "#tree model\n",
    "X_train_211=X_train[:,[1,10]]\n",
    "X_test_211=X_test[:,[1,10]]\n",
    "from sklearn.tree import DecisionTreeClassifier\n",
    "tree=DecisionTreeClassifier(criterion='entropy',\n",
    "                           max_depth=3, random_state=0)\n",
    "tree.fit(X_train_211, y_train)\n",
    "X_combined_211=np.vstack((X_train_211, X_test_211))\n",
    "y_combined_211=np.hstack((y_train, y_test))\n",
    "plot_decision_regions(X=X_combined_211, \n",
    "                     y=y_combined_211,\n",
    "                     classifier=tree,\n",
    "                     test_idx=range(3164, 4521))\n",
    "plt.xlabel('Job')\n",
    "plt.ylabel('Month')\n",
    "plt.legend(loc='best')\n",
    "plt.show()\n",
    "#Check the accuracy\n",
    "y_pred_211=tree.predict(X_test_211)\n",
    "from sklearn.metrics import accuracy_score\n",
    "print('Accuracy: %.2f' % accuracy_score(y_test, y_pred_211))"
   ]
  },
  {
   "cell_type": "code",
   "execution_count": 88,
   "metadata": {
    "scrolled": true
   },
   "outputs": [
    {
     "name": "stdout",
     "output_type": "stream",
     "text": [
      "Accuracy: 0.7900\n"
     ]
    },
    {
     "data": {
      "image/png": "[encoded data removed]",
      "text/plain": [
       "<matplotlib.figure.Figure at 0x24456bf4a20>"
      ]
     },
     "metadata": {},
     "output_type": "display_data"
    }
   ],
   "source": [
    "import numpy as np\n",
    "X_age_cel=np.zeros((4521,2))\n",
    "X_age_cel[:,0]=X[:,0]\n",
    "X_age_cel[:,1]=np.where(X[:,8]==2,1,0)\n",
    "#Devide training/test sets\n",
    "from sklearn.model_selection import train_test_split\n",
    "X_train_1, X_test_1, y_train, y_test= train_test_split(\n",
    "                    X_age_cel, y, test_size=0.3, random_state=0)\n",
    "#Preceptron model\n",
    "from sklearn.linear_model import Perceptron\n",
    "ppn=Perceptron(max_iter=40, eta0=0.1, random_state=0)\n",
    "ppn.fit(X_train_1, y_train)\n",
    "\n",
    "#Check the accuracy\n",
    "y_pred=ppn.predict(X_test_1)\n",
    "from sklearn.metrics import accuracy_score\n",
    "print('Accuracy: %.4f' % accuracy_score(y_test, y_pred))\n",
    "X_combined=np.vstack((X_train_1, X_test_1))\n",
    "y_combined=np.hstack((y_train, y_test))\n",
    "plot_decision_regions(X=X_combined, \n",
    "                     y=y_combined,\n",
    "                     classifier=ppn,\n",
    "                     test_idx=range(3164, 4521))\n",
    "plt.xlabel('age')\n",
    "plt.ylabel('celluar')\n",
    "plt.legend(loc='best')\n",
    "plt.show()"
   ]
  }
 ],
 "metadata": {
  "kernelspec": {
   "display_name": "Python 3",
   "language": "python",
   "name": "python3"
  },
  "language_info": {
   "codemirror_mode": {
    "name": "ipython",
    "version": 3
   },
   "file_extension": ".py",
   "mimetype": "text/x-python",
   "name": "python",
   "nbconvert_exporter": "python",
   "pygments_lexer": "ipython3",
   "version": "3.6.4"
  }
 },
 "nbformat": 4,
 "nbformat_minor": 2
}
